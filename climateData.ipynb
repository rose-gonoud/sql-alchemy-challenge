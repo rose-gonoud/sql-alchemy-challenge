{
 "cells": [
  {
   "cell_type": "code",
   "execution_count": 2,
   "metadata": {},
   "outputs": [],
   "source": [
    "%matplotlib inline\n",
    "from matplotlib import style\n",
    "style.use('fivethirtyeight')\n",
    "import matplotlib.pyplot as plt"
   ]
  },
  {
   "cell_type": "code",
   "execution_count": 3,
   "metadata": {},
   "outputs": [],
   "source": [
    "import numpy as np\n",
    "import pandas as pd"
   ]
  },
  {
   "cell_type": "code",
   "execution_count": 4,
   "metadata": {},
   "outputs": [],
   "source": [
    "import datetime as dt\n",
    "from datetime import datetime, timedelta"
   ]
  },
  {
   "cell_type": "markdown",
   "metadata": {},
   "source": [
    "# Reflect Tables into SQLAlchemy ORM"
   ]
  },
  {
   "cell_type": "code",
   "execution_count": 5,
   "metadata": {},
   "outputs": [],
   "source": [
    "# Python SQL toolkit and Object Relational Mapper\n",
    "import sqlalchemy\n",
    "from sqlalchemy.ext.automap import automap_base\n",
    "from sqlalchemy.orm import Session\n",
    "from sqlalchemy import create_engine, func, inspect"
   ]
  },
  {
   "cell_type": "code",
   "execution_count": 6,
   "metadata": {},
   "outputs": [],
   "source": [
    "engine = create_engine(\"sqlite:///Resources/hawaii.sqlite\")"
   ]
  },
  {
   "cell_type": "code",
   "execution_count": 7,
   "metadata": {},
   "outputs": [],
   "source": [
    "# reflect an existing database into a new model\n",
    "Base = automap_base()\n",
    "# reflect the tables\n",
    "Base.prepare(engine, reflect=True)"
   ]
  },
  {
   "cell_type": "code",
   "execution_count": 8,
   "metadata": {},
   "outputs": [
    {
     "data": {
      "text/plain": [
       "['measurement', 'station']"
      ]
     },
     "execution_count": 8,
     "metadata": {},
     "output_type": "execute_result"
    }
   ],
   "source": [
    "# We can view all of the classes that automap found\n",
    "Base.classes.keys()"
   ]
  },
  {
   "cell_type": "code",
   "execution_count": 9,
   "metadata": {},
   "outputs": [],
   "source": [
    "# Save references to each table\n",
    "Measurement = Base.classes.measurement\n",
    "Station = Base.classes.station"
   ]
  },
  {
   "cell_type": "code",
   "execution_count": 10,
   "metadata": {},
   "outputs": [],
   "source": [
    "# Create our session (link) from Python to the DB\n",
    "session = Session(engine)"
   ]
  },
  {
   "cell_type": "markdown",
   "metadata": {},
   "source": [
    "# Exploratory Climate Analysis"
   ]
  },
  {
   "cell_type": "code",
   "execution_count": 11,
   "metadata": {},
   "outputs": [
    {
     "name": "stdout",
     "output_type": "stream",
     "text": [
      "id INTEGER\n",
      "station TEXT\n",
      "name TEXT\n",
      "latitude FLOAT\n",
      "longitude FLOAT\n",
      "elevation FLOAT\n"
     ]
    }
   ],
   "source": [
    "# Getting column info for the station entries\n",
    "inspector = inspect(engine)\n",
    "\n",
    "columns = inspector.get_columns('station')\n",
    "for c in columns:\n",
    "    print(c['name'], c[\"type\"])"
   ]
  },
  {
   "cell_type": "code",
   "execution_count": 12,
   "metadata": {},
   "outputs": [
    {
     "name": "stdout",
     "output_type": "stream",
     "text": [
      "id INTEGER\n",
      "station TEXT\n",
      "date TEXT\n",
      "prcp FLOAT\n",
      "tobs FLOAT\n"
     ]
    }
   ],
   "source": [
    "# Getting column info for measurement entries\n",
    "inspector = inspect(engine)\n",
    "\n",
    "columns = inspector.get_columns('measurement')\n",
    "for c in columns:\n",
    "    print(c['name'], c[\"type\"])"
   ]
  },
  {
   "cell_type": "code",
   "execution_count": 13,
   "metadata": {},
   "outputs": [
    {
     "data": {
      "text/plain": [
       "[('2010-01-01'),\n",
       " ('2010-01-02'),\n",
       " ('2010-01-03'),\n",
       " ('2010-01-04'),\n",
       " ('2010-01-06'),\n",
       " ('2010-01-07'),\n",
       " ('2010-01-08'),\n",
       " ('2010-01-09'),\n",
       " ('2010-01-10'),\n",
       " ('2010-01-11')]"
      ]
     },
     "execution_count": 13,
     "metadata": {},
     "output_type": "execute_result"
    }
   ],
   "source": [
    "# Checking date formats\n",
    "session.query(Measurement.date).limit(10).all()"
   ]
  },
  {
   "cell_type": "code",
   "execution_count": 14,
   "metadata": {},
   "outputs": [
    {
     "data": {
      "text/plain": [
       "('2017-08-23')"
      ]
     },
     "execution_count": 14,
     "metadata": {},
     "output_type": "execute_result"
    }
   ],
   "source": [
    "# Determining last date in the database\n",
    "latestDate = session.query(Measurement.date).\\\n",
    "    order_by(Measurement.date.desc()).first()\n",
    "latestDate\n",
    "\n",
    "#? Trying to turn this date into a datetime object for the purposes of doing math on it the right way???\n",
    "#    keeps daying the date isn't in the right format, but it clearly is.\n",
    "\n",
    "# latestDate = str(latestDate)\n",
    "# datetime.strftime(latestDate, '%Y-%m-%d')\n"
   ]
  },
  {
   "cell_type": "code",
   "execution_count": 15,
   "metadata": {},
   "outputs": [
    {
     "data": {
      "text/plain": [
       "[('2016-08-24', 'WAIKIKI 717.2, HI US'),\n",
       " ('2016-08-24', 'KANEOHE 838.1, HI US'),\n",
       " ('2016-08-24', 'KUALOA RANCH HEADQUARTERS 886.9, HI US'),\n",
       " ('2016-08-24', 'PEARL CITY, HI US'),\n",
       " ('2016-08-24', 'UPPER WAHIAWA 874.3, HI US'),\n",
       " ('2016-08-24', 'WAIMANALO EXPERIMENTAL FARM, HI US'),\n",
       " ('2016-08-24', 'WAIHEE 837.5, HI US'),\n",
       " ('2016-08-24', 'HONOLULU OBSERVATORY 702.2, HI US'),\n",
       " ('2016-08-24', 'MANOA LYON ARBO 785.2, HI US'),\n",
       " ('2016-08-24', 'WAIKIKI 717.2, HI US'),\n",
       " ('2016-08-24', 'KANEOHE 838.1, HI US'),\n",
       " ('2016-08-24', 'KUALOA RANCH HEADQUARTERS 886.9, HI US'),\n",
       " ('2016-08-24', 'PEARL CITY, HI US'),\n",
       " ('2016-08-24', 'UPPER WAHIAWA 874.3, HI US'),\n",
       " ('2016-08-24', 'WAIMANALO EXPERIMENTAL FARM, HI US'),\n",
       " ('2016-08-24', 'WAIHEE 837.5, HI US'),\n",
       " ('2016-08-24', 'HONOLULU OBSERVATORY 702.2, HI US'),\n",
       " ('2016-08-24', 'MANOA LYON ARBO 785.2, HI US'),\n",
       " ('2016-08-24', 'WAIKIKI 717.2, HI US'),\n",
       " ('2016-08-24', 'KANEOHE 838.1, HI US'),\n",
       " ('2016-08-24', 'KUALOA RANCH HEADQUARTERS 886.9, HI US'),\n",
       " ('2016-08-24', 'PEARL CITY, HI US'),\n",
       " ('2016-08-24', 'UPPER WAHIAWA 874.3, HI US'),\n",
       " ('2016-08-24', 'WAIMANALO EXPERIMENTAL FARM, HI US'),\n",
       " ('2016-08-24', 'WAIHEE 837.5, HI US'),\n",
       " ('2016-08-24', 'HONOLULU OBSERVATORY 702.2, HI US'),\n",
       " ('2016-08-24', 'MANOA LYON ARBO 785.2, HI US'),\n",
       " ('2016-08-24', 'WAIKIKI 717.2, HI US'),\n",
       " ('2016-08-24', 'KANEOHE 838.1, HI US'),\n",
       " ('2016-08-24', 'KUALOA RANCH HEADQUARTERS 886.9, HI US'),\n",
       " ('2016-08-24', 'PEARL CITY, HI US'),\n",
       " ('2016-08-24', 'UPPER WAHIAWA 874.3, HI US'),\n",
       " ('2016-08-24', 'WAIMANALO EXPERIMENTAL FARM, HI US'),\n",
       " ('2016-08-24', 'WAIHEE 837.5, HI US'),\n",
       " ('2016-08-24', 'HONOLULU OBSERVATORY 702.2, HI US'),\n",
       " ('2016-08-24', 'MANOA LYON ARBO 785.2, HI US'),\n",
       " ('2016-08-24', 'WAIKIKI 717.2, HI US'),\n",
       " ('2016-08-24', 'KANEOHE 838.1, HI US'),\n",
       " ('2016-08-24', 'KUALOA RANCH HEADQUARTERS 886.9, HI US'),\n",
       " ('2016-08-24', 'PEARL CITY, HI US'),\n",
       " ('2016-08-24', 'UPPER WAHIAWA 874.3, HI US'),\n",
       " ('2016-08-24', 'WAIMANALO EXPERIMENTAL FARM, HI US'),\n",
       " ('2016-08-24', 'WAIHEE 837.5, HI US'),\n",
       " ('2016-08-24', 'HONOLULU OBSERVATORY 702.2, HI US'),\n",
       " ('2016-08-24', 'MANOA LYON ARBO 785.2, HI US'),\n",
       " ('2016-08-24', 'WAIKIKI 717.2, HI US'),\n",
       " ('2016-08-24', 'KANEOHE 838.1, HI US'),\n",
       " ('2016-08-24', 'KUALOA RANCH HEADQUARTERS 886.9, HI US'),\n",
       " ('2016-08-24', 'PEARL CITY, HI US'),\n",
       " ('2016-08-24', 'UPPER WAHIAWA 874.3, HI US')]"
      ]
     },
     "execution_count": 15,
     "metadata": {},
     "output_type": "execute_result"
    }
   ],
   "source": [
    "# ????? plot the results?\n",
    "\n",
    "#?Trying to calculate the date 1 year ago from the last data point using datetime fanciness\n",
    "#    operand not supported?\n",
    "\n",
    "# last12monthsDate = latestDate - timedelta(days=365)\n",
    "# last12monthsDate\n",
    "\n",
    "# Displaying station names and dates for 1 year ago from the last data point in the database\n",
    "last12Months = session.query(Measurement.date, Station.name).\\\n",
    "    filter(Measurement.date > '2016-08-23').order_by(Measurement.date).limit(50).all()\n",
    "\n",
    "last12Months\n"
   ]
  },
  {
   "cell_type": "code",
   "execution_count": 16,
   "metadata": {},
   "outputs": [
    {
     "data": {
      "image/png": "[encoded data removed]",
      "text/plain": [
       "<Figure size 432x288 with 1 Axes>"
      ]
     },
     "metadata": {},
     "output_type": "display_data"
    }
   ],
   "source": [
    "# Perform a query to retrieve the date and precipitation scores\n",
    "dateAndPrecip = session.query(Measurement.date, Measurement.prcp).\\\n",
    "    filter(Measurement.date > '2016-08-23').order_by(Measurement.date).all()\n",
    "dateAndPrecip\n",
    "\n",
    "# Save the query results as a Pandas DataFrame and set the index to the date column\n",
    "precipData = pd.DataFrame(dateAndPrecip)\n",
    "precipData = precipData.set_index([\"date\"])\n",
    "\n",
    "# Sort the dataframe by date\n",
    "precipData = precipData.sort_index(ascending=False)\n",
    "precipData\n",
    "\n",
    "# Use Pandas Plotting with Matplotlib to plot the data\n",
    "fig = plt.plot(precipData.index, precipData[\"prcp\"])\n",
    "plt.title(\"12 Months of Precipiation\")\n",
    "plt.xlabel(\"Date\")\n",
    "plt.ylabel(\"Inches\")\n",
    "plt.xticks(precipData.index[::300], rotation=40)\n",
    "fig = plt.gcf()\n",
    "fig.savefig('Images/12monthPrecipData', dpi=100, bbox_inches=\"tight\")\n"
   ]
  },
  {
   "cell_type": "code",
   "execution_count": 17,
   "metadata": {},
   "outputs": [
    {
     "data": {
      "text/html": [
       "<div>\n",
       "<style scoped>\n",
       "    .dataframe tbody tr th:only-of-type {\n",
       "        vertical-align: middle;\n",
       "    }\n",
       "\n",
       "    .dataframe tbody tr th {\n",
       "        vertical-align: top;\n",
       "    }\n",
       "\n",
       "    .dataframe thead th {\n",
       "        text-align: right;\n",
       "    }\n",
       "</style>\n",
       "<table border=\"1\" class=\"dataframe\">\n",
       "  <thead>\n",
       "    <tr style=\"text-align: right;\">\n",
       "      <th></th>\n",
       "      <th>prcp</th>\n",
       "    </tr>\n",
       "  </thead>\n",
       "  <tbody>\n",
       "    <tr>\n",
       "      <th>count</th>\n",
       "      <td>2015.000000</td>\n",
       "    </tr>\n",
       "    <tr>\n",
       "      <th>mean</th>\n",
       "      <td>0.176462</td>\n",
       "    </tr>\n",
       "    <tr>\n",
       "      <th>std</th>\n",
       "      <td>0.460288</td>\n",
       "    </tr>\n",
       "    <tr>\n",
       "      <th>min</th>\n",
       "      <td>0.000000</td>\n",
       "    </tr>\n",
       "    <tr>\n",
       "      <th>25%</th>\n",
       "      <td>0.000000</td>\n",
       "    </tr>\n",
       "    <tr>\n",
       "      <th>50%</th>\n",
       "      <td>0.020000</td>\n",
       "    </tr>\n",
       "    <tr>\n",
       "      <th>75%</th>\n",
       "      <td>0.130000</td>\n",
       "    </tr>\n",
       "    <tr>\n",
       "      <th>max</th>\n",
       "      <td>6.700000</td>\n",
       "    </tr>\n",
       "  </tbody>\n",
       "</table>\n",
       "</div>"
      ],
      "text/plain": [
       "              prcp\n",
       "count  2015.000000\n",
       "mean      0.176462\n",
       "std       0.460288\n",
       "min       0.000000\n",
       "25%       0.000000\n",
       "50%       0.020000\n",
       "75%       0.130000\n",
       "max       6.700000"
      ]
     },
     "execution_count": 17,
     "metadata": {},
     "output_type": "execute_result"
    }
   ],
   "source": [
    "# Use Pandas to calcualte the summary statistics for the precipitation data\n",
    "precipData.describe()"
   ]
  },
  {
   "cell_type": "code",
   "execution_count": 18,
   "metadata": {},
   "outputs": [
    {
     "name": "stdout",
     "output_type": "stream",
     "text": [
      "9 [('USC00519397',), ('USC00513117',), ('USC00514830',), ('USC00517948',), ('USC00518838',), ('USC00519523',), ('USC00519281',), ('USC00511918',), ('USC00516128',)]\n"
     ]
    }
   ],
   "source": [
    "# Design a query to show how many stations are available in this dataset?\n",
    "numStations = session.query(Measurement.station).distinct().count()\n",
    "numStations\n",
    "\n",
    "distinctStations = session.query(Measurement.station).distinct().all()\n",
    "distinctStations\n",
    "\n",
    "print(numStations, distinctStations)"
   ]
  },
  {
   "cell_type": "code",
   "execution_count": 19,
   "metadata": {},
   "outputs": [
    {
     "data": {
      "text/plain": [
       "[('USC00519281', 2772),\n",
       " ('USC00519397', 2724),\n",
       " ('USC00513117', 2709),\n",
       " ('USC00519523', 2669),\n",
       " ('USC00516128', 2612),\n",
       " ('USC00514830', 2202),\n",
       " ('USC00511918', 1979),\n",
       " ('USC00517948', 1372),\n",
       " ('USC00518838', 511)]"
      ]
     },
     "execution_count": 19,
     "metadata": {},
     "output_type": "execute_result"
    }
   ],
   "source": [
    "# What are the most active stations? (i.e. what stations have the most rows)?\n",
    "# List the stations and the counts in descending order.\n",
    "\n",
    "orderedStations = session.query(Measurement.station, func.count(Measurement.station)).group_by(Measurement.station).order_by(func.count(Measurement.station).desc()).all()\n",
    "orderedStations"
   ]
  },
  {
   "cell_type": "code",
   "execution_count": 137,
   "metadata": {},
   "outputs": [
    {
     "name": "stdout",
     "output_type": "stream",
     "text": [
      "Station USC00519281 recorded a minimum temperature of [(54.0,)], a maximum temperature of [(85.0,)], and an average temperature of [(71.66378066378067,)]\n"
     ]
    }
   ],
   "source": [
    "# Using the station id from the previous query, calculate the lowest temperature recorded, \n",
    "# highest temperature recorded, and average temperature of the most active station?\n",
    "lowestTemp = session.query(func.min(Measurement.tobs)).\\\n",
    "    filter(Measurement.station == 'USC00519281').group_by(Measurement.station).all()\n",
    "\n",
    "highestTemp = session.query(func.max(Measurement.tobs)).\\\n",
    "    filter(Measurement.station == 'USC00519281').group_by(Measurement.station).all()\n",
    "\n",
    "avgTemp = session.query(func.avg(Measurement.tobs)).\\\n",
    "    filter(Measurement.station == 'USC00519281').group_by(Measurement.station).all()\n",
    "\n",
    "print(f\"Station USC00519281 recorded a minimum temperature of {lowestTemp}, a maximum temperature of {highestTemp}, and an average temperature of {avgTemp}\")"
   ]
  },
  {
   "cell_type": "code",
   "execution_count": 177,
   "metadata": {},
   "outputs": [
    {
     "data": {
      "image/png": "[encoded data removed]",
      "text/plain": [
       "<Figure size 432x288 with 1 Axes>"
      ]
     },
     "metadata": {},
     "output_type": "display_data"
    }
   ],
   "source": [
    "# Choose the station with the highest number of temperature observations.\n",
    "# Query the last 12 months of temperature observation data for this station and plot the results as a histogram\n",
    "temp12months = session.query(Measurement.date, Measurement.tobs).\\\n",
    "    filter(Measurement.date > '2016-08-23', Measurement.station == 'USC00519281').order_by(Measurement.date).all()\n",
    "temp12months\n",
    "\n",
    "tempData12Months = pd.DataFrame(temp12months)\n",
    "tempData12Months.hist(bins=12)\n",
    "plt.title(\"12 Months at Station USC00519281\")\n",
    "plt.xlabel(\"Temperature\")\n",
    "plt.ylabel(\"Frequency\")\n",
    "\n",
    "fig2 = plt.gcf()\n",
    "fig2.savefig('Images/12monthTempData', bbox_inches=\"tight\")"
   ]
  },
  {
   "cell_type": "markdown",
   "metadata": {},
   "source": [
    "## Optional Challenge Assignment"
   ]
  },
  {
   "cell_type": "code",
   "execution_count": 16,
   "metadata": {},
   "outputs": [
    {
     "name": "stdout",
     "output_type": "stream",
     "text": [
      "[(62.0, 69.57142857142857, 74.0)]\n"
     ]
    }
   ],
   "source": [
    "# This function called `calc_temps` will accept start date and end date in the format '%Y-%m-%d' \n",
    "# and return the minimum, average, and maximum temperatures for that range of dates\n",
    "def calc_temps(start_date, end_date):\n",
    "    \"\"\"TMIN, TAVG, and TMAX for a list of dates.\n",
    "    \n",
    "    Args:\n",
    "        start_date (string): A date string in the format %Y-%m-%d\n",
    "        end_date (string): A date string in the format %Y-%m-%d\n",
    "        \n",
    "    Returns:\n",
    "        TMIN, TAVE, and TMAX\n",
    "    \"\"\"\n",
    "    \n",
    "    return session.query(func.min(Measurement.tobs), func.avg(Measurement.tobs), func.max(Measurement.tobs)).\\\n",
    "        filter(Measurement.date >= start_date).filter(Measurement.date <= end_date).all()\n",
    "\n",
    "# function usage example\n",
    "print(calc_temps('2012-02-28', '2012-03-05'))"
   ]
  },
  {
   "cell_type": "code",
   "execution_count": 17,
   "metadata": {},
   "outputs": [],
   "source": [
    "# Use your previous function `calc_temps` to calculate the tmin, tavg, and tmax \n",
    "# for your trip using the previous year's data for those same dates.\n"
   ]
  },
  {
   "cell_type": "code",
   "execution_count": 18,
   "metadata": {},
   "outputs": [],
   "source": [
    "# Plot the results from your previous query as a bar chart. \n",
    "# Use \"Trip Avg Temp\" as your Title\n",
    "# Use the average temperature for the y value\n",
    "# Use the peak-to-peak (tmax-tmin) value as the y error bar (yerr)\n"
   ]
  },
  {
   "cell_type": "code",
   "execution_count": 19,
   "metadata": {},
   "outputs": [],
   "source": [
    "# Calculate the total amount of rainfall per weather station for your trip dates using the previous year's matching dates.\n",
    "# Sort this in descending order by precipitation amount and list the station, name, latitude, longitude, and elevation\n",
    "\n"
   ]
  },
  {
   "cell_type": "code",
   "execution_count": 20,
   "metadata": {},
   "outputs": [
    {
     "data": {
      "text/plain": [
       "[(62.0, 69.15384615384616, 77.0)]"
      ]
     },
     "execution_count": 20,
     "metadata": {},
     "output_type": "execute_result"
    }
   ],
   "source": [
    "# Create a query that will calculate the daily normals \n",
    "# (i.e. the averages for tmin, tmax, and tavg for all historic data matching a specific month and day)\n",
    "\n",
    "def daily_normals(date):\n",
    "    \"\"\"Daily Normals.\n",
    "    \n",
    "    Args:\n",
    "        date (str): A date string in the format '%m-%d'\n",
    "        \n",
    "    Returns:\n",
    "        A list of tuples containing the daily normals, tmin, tavg, and tmax\n",
    "    \n",
    "    \"\"\"\n",
    "    \n",
    "    sel = [func.min(Measurement.tobs), func.avg(Measurement.tobs), func.max(Measurement.tobs)]\n",
    "    return session.query(*sel).filter(func.strftime(\"%m-%d\", Measurement.date) == date).all()\n",
    "    \n",
    "daily_normals(\"01-01\")"
   ]
  },
  {
   "cell_type": "code",
   "execution_count": 21,
   "metadata": {},
   "outputs": [],
   "source": [
    "# calculate the daily normals for your trip\n",
    "# push each tuple of calculations into a list called `normals`\n",
    "\n",
    "# Set the start and end date of the trip\n",
    "\n",
    "# Use the start and end date to create a range of dates\n",
    "\n",
    "# Stip off the year and save a list of %m-%d strings\n",
    "\n",
    "# Loop through the list of %m-%d strings and calculate the normals for each date\n"
   ]
  },
  {
   "cell_type": "code",
   "execution_count": 22,
   "metadata": {},
   "outputs": [],
   "source": [
    "# Load the previous query results into a Pandas DataFrame and add the `trip_dates` range as the `date` index\n"
   ]
  },
  {
   "cell_type": "code",
   "execution_count": 23,
   "metadata": {},
   "outputs": [],
   "source": [
    "# Plot the daily normals as an area plot with `stacked=False`\n"
   ]
  }
 ],
 "metadata": {
  "kernel_info": {
   "name": "python3"
  },
  "kernelspec": {
   "display_name": "Python 3",
   "language": "python",
   "name": "python3"
  },
  "language_info": {
   "codemirror_mode": {
    "name": "ipython",
    "version": 3
   },
   "file_extension": ".py",
   "mimetype": "text/x-python",
   "name": "python",
   "nbconvert_exporter": "python",
   "pygments_lexer": "ipython3",
   "version": "3.7.5"
  },
  "nteract": {
   "version": "0.12.3"
  },
  "varInspector": {
   "cols": {
    "lenName": 16,
    "lenType": 16,
    "lenVar": 40
   },
   "kernels_config": {
    "python": {
     "delete_cmd_postfix": "",
     "delete_cmd_prefix": "del ",
     "library": "var_list.py",
     "varRefreshCmd": "print(var_dic_list())"
    },
    "r": {
     "delete_cmd_postfix": ") ",
     "delete_cmd_prefix": "rm(",
     "library": "var_list.r",
     "varRefreshCmd": "cat(var_dic_list()) "
    }
   },
   "types_to_exclude": [
    "module",
    "function",
    "builtin_function_or_method",
    "instance",
    "_Feature"
   ],
   "window_display": false
  }
 },
 "nbformat": 4,
 "nbformat_minor": 2
}
